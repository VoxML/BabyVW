{
 "cells": [
  {
   "cell_type": "code",
   "execution_count": 11,
   "metadata": {
    "pycharm": {
     "is_executing": false
    }
   },
   "outputs": [],
   "source": [
    "from sklearn.cross_decomposition import CCA\n",
    "import pandas as pd\n",
    "import numpy as np\n",
    "import math\n",
    "import matplotlib.pyplot as plt\n",
    "from mpl_toolkits.axes_grid1 import make_axes_locatable"
   ]
  },
  {
   "cell_type": "code",
   "execution_count": 12,
   "metadata": {
    "pycharm": {
     "is_executing": false
    }
   },
   "outputs": [],
   "source": [
    "def pad(data):\n",
    "    eps = np.unique(data[:,0])\n",
    "    samples = data\n",
    "    padded = samples.copy()\n",
    "    for i in eps:\n",
    "        count = np.count_nonzero(samples[:,0] == i)\n",
    "        if count < 10:\n",
    "            max_idx = np.max(np.where(padded[:,0] == i)[0])\n",
    "            #print(i,10-count,max_idx)\n",
    "            for j in range(10-count):\n",
    "                #print(\"Inserting %s at %s\" % (padded[max_idx][0], max_idx+1+j))\n",
    "                padded = np.insert(padded,max_idx+1+j,padded[max_idx],axis=0)\n",
    "                #print(j,padded.shape)\n",
    "                \n",
    "    return padded"
   ]
  },
  {
   "cell_type": "code",
   "execution_count": 13,
   "metadata": {},
   "outputs": [],
   "source": [
    "def load_data(prefix):\n",
    "    two_cubes = pd.read_csv(\"trial-data/{}-2cubes.csv\".format(prefix), header= None)\n",
    "    two_cubes = two_cubes[two_cubes.iloc[:,1] == 0]\n",
    "    \n",
    "    cube_sphere = pd.read_csv(\"trial-data/{}-cube_sphere.csv\".format(prefix), header= None)\n",
    "    cube_sphere = cube_sphere[cube_sphere.iloc[:,1] == 1]\n",
    "    \n",
    "    cube_cylinder = pd.read_csv(\"trial-data/{}-cube_cylinder.csv\".format(prefix), header= None)\n",
    "    cube_cylinder = cube_cylinder[cube_cylinder.iloc[:,1] == 2]\n",
    "    \n",
    "    cube_capsule = pd.read_csv(\"trial-data/{}-cube_capsule.csv\".format(prefix), header= None)\n",
    "    cube_capsule = cube_capsule[cube_capsule.iloc[:,1] == 3]\n",
    "    \n",
    "    big_small = pd.read_csv(\"trial-data/{}-bigcube_smallcube.csv\".format(prefix), header= None)\n",
    "    big_small = big_small[big_small.iloc[:,1] == 4]\n",
    "    \n",
    "    return two_cubes,cube_sphere,cube_cylinder,cube_capsule,big_small"
   ]
  },
  {
   "cell_type": "code",
   "execution_count": 14,
   "metadata": {
    "pycharm": {
     "is_executing": false
    }
   },
   "outputs": [],
   "source": [
    "def compute_cca(cat1, cat2, n_components=1, c=1):\n",
    "    cca = CCA(n_components=n_components)\n",
    "    cca.fit(cat1, cat2)\n",
    "    X_c, Y_c = cca.transform(cat1, cat2)\n",
    "    return np.corrcoef(X_c[:, c-1], Y_c[:, c-1])[0,1]"
   ]
  },
  {
   "cell_type": "code",
   "execution_count": 15,
   "metadata": {
    "pycharm": {
     "is_executing": false,
     "name": "#%%\n"
    }
   },
   "outputs": [],
   "source": [
    "def angles_sub(mat1, mat2):\n",
    "    mat1_Q, _ = np.linalg.qr(mat1)\n",
    "    mat2_Q, _ = np.linalg.qr(mat2)\n",
    "    phi, sigma, psi = np.linalg.svd(mat1_Q.T @ mat2_Q)\n",
    "    u = mat1_Q @ phi\n",
    "    v = mat2_Q @ psi\n",
    "    return math.acos(u[:,0].T @ v[:,0])"
   ]
  },
  {
   "cell_type": "code",
   "execution_count": 16,
   "metadata": {},
   "outputs": [],
   "source": [
    "results = {}\n",
    "n = 1000"
   ]
  },
  {
   "cell_type": "markdown",
   "metadata": {},
   "source": [
    "# 122921 (Accurate Policy)"
   ]
  },
  {
   "cell_type": "code",
   "execution_count": 17,
   "metadata": {
    "pycharm": {
     "is_executing": false,
     "name": "#%%\n"
    }
   },
   "outputs": [],
   "source": [
    "prefix = \"122921\"\n",
    "results[prefix] = {}\n",
    "two_cubes,cube_sphere,cube_cylinder,cube_capsule,big_small = load_data(prefix)"
   ]
  },
  {
   "cell_type": "code",
   "execution_count": 18,
   "metadata": {
    "pycharm": {
     "is_executing": false,
     "name": "#%%\n"
    }
   },
   "outputs": [
    {
     "data": {
      "text/plain": [
       "((1000, 19), (1000, 19), (1000, 19), (1000, 19), (1000, 19))"
      ]
     },
     "execution_count": 18,
     "metadata": {},
     "output_type": "execute_result"
    }
   ],
   "source": [
    "two_cubes = pd.DataFrame(pad(two_cubes.to_numpy()))\n",
    "two_cubes = two_cubes.drop(two_cubes.iloc[:,16:22], axis = 1)\n",
    "two_cubes = two_cubes.drop(two_cubes.iloc[:,0:3], axis = 1)\n",
    "two_cubes = two_cubes.head(n)\n",
    "\n",
    "cube_sphere = pd.DataFrame(pad(cube_sphere.to_numpy()))\n",
    "cube_sphere = cube_sphere.drop(cube_sphere.iloc[:,16:22], axis = 1)\n",
    "cube_sphere = cube_sphere.drop(cube_sphere.iloc[:,0:3], axis = 1)\n",
    "cube_sphere = cube_sphere.head(n)\n",
    "\n",
    "cube_cylinder = pd.DataFrame(pad(cube_cylinder.to_numpy()))\n",
    "cube_cylinder = cube_cylinder.drop(cube_cylinder.iloc[:,16:22], axis = 1)\n",
    "cube_cylinder = cube_cylinder.drop(cube_cylinder.iloc[:,0:3], axis = 1)\n",
    "cube_cylinder = cube_cylinder.head(n)\n",
    "\n",
    "cube_capsule = pd.DataFrame(pad(cube_capsule.to_numpy()))\n",
    "cube_capsule = cube_capsule.drop(cube_capsule.iloc[:,16:22], axis = 1)\n",
    "cube_capsule = cube_capsule.drop(cube_capsule.iloc[:,0:3], axis = 1)\n",
    "cube_capsule = cube_capsule.head(n)\n",
    "\n",
    "big_small = pd.DataFrame(pad(big_small.to_numpy()))\n",
    "big_small = big_small.drop(big_small.iloc[:,16:22], axis = 1)\n",
    "big_small = big_small.drop(big_small.iloc[:,0:3], axis = 1)\n",
    "big_small = big_small.head(n)\n",
    "\n",
    "two_cubes.shape,cube_sphere.shape,cube_cylinder.shape,cube_capsule.shape,big_small.shape"
   ]
  },
  {
   "cell_type": "code",
   "execution_count": 19,
   "metadata": {
    "pycharm": {
     "is_executing": false
    }
   },
   "outputs": [],
   "source": [
    "cat_list = [two_cubes,cube_sphere,cube_cylinder,cube_capsule,big_small]"
   ]
  },
  {
   "cell_type": "code",
   "execution_count": 20,
   "metadata": {
    "pycharm": {
     "is_executing": false
    }
   },
   "outputs": [
    {
     "data": {
      "text/plain": [
       "array([[1.        , 0.36672349, 0.9800603 , 0.62534557, 0.62609622],\n",
       "       [0.37385815, 1.        , 0.37441782, 0.8318576 , 0.39878292],\n",
       "       [0.98005134, 0.37441646, 1.        , 0.60385974, 0.51501876],\n",
       "       [0.62854395, 0.83185756, 0.6038512 , 1.        , 0.45688137],\n",
       "       [0.62680454, 0.39878241, 0.51417321, 0.45685604, 1.        ]])"
      ]
     },
     "execution_count": 20,
     "metadata": {},
     "output_type": "execute_result"
    }
   ],
   "source": [
    "mat = np.zeros(shape=(len(cat_list),len(cat_list)))\n",
    "for i in range(len(cat_list)):\n",
    "    for j in range(len(cat_list)):\n",
    "        mat[i,j] = compute_cca(cat_list[i], cat_list[j])\n",
    "results[prefix][1] = mat\n",
    "results[prefix][1]"
   ]
  },
  {
   "cell_type": "code",
   "execution_count": 21,
   "metadata": {},
   "outputs": [
    {
     "data": {
      "text/plain": [
       "array([[1.        , 0.3726762 , 0.95567156, 0.54821414, 0.46342739],\n",
       "       [0.36624481, 1.        , 0.25537867, 0.41926529, 0.34873956],\n",
       "       [0.95619012, 0.25537872, 1.        , 0.56432454, 0.47510493],\n",
       "       [0.54548927, 0.41926518, 0.56433308, 1.        , 0.39075045],\n",
       "       [0.46300666, 0.34872837, 0.47588576, 0.39078296, 1.        ]])"
      ]
     },
     "execution_count": 21,
     "metadata": {},
     "output_type": "execute_result"
    }
   ],
   "source": [
    "mat = np.zeros(shape=(len(cat_list),len(cat_list)))\n",
    "for i in range(len(cat_list)):\n",
    "    for j in range(len(cat_list)):\n",
    "        mat[i,j] = compute_cca(cat_list[i], cat_list[j], n_components=2, c=2)\n",
    "results[prefix][2] = mat\n",
    "results[prefix][2]"
   ]
  },
  {
   "cell_type": "code",
   "execution_count": 22,
   "metadata": {
    "pycharm": {
     "is_executing": false
    }
   },
   "outputs": [
    {
     "data": {
      "text/plain": [
       "<matplotlib.colorbar.Colorbar at 0x7fb59b74df50>"
      ]
     },
     "execution_count": 22,
     "metadata": {},
     "output_type": "execute_result"
    },
    {
     "data": {
      "image/png": "[encoded data removed]",
      "text/plain": [
       "<Figure size 864x288 with 4 Axes>"
      ]
     },
     "metadata": {
      "needs_background": "light"
     },
     "output_type": "display_data"
    }
   ],
   "source": [
    "fig = plt.figure(figsize=(12, 4))\n",
    "fig.suptitle(prefix)\n",
    "\n",
    "ax1 = fig.add_subplot(121)\n",
    "ax1.title.set_text('First component')\n",
    "im1 = ax1.imshow(results[prefix][1], cmap='RdBu')\n",
    "divider = make_axes_locatable(ax1)\n",
    "cax = divider.append_axes('right', size='5%', pad=0.15)\n",
    "fig.colorbar(im1, cax=cax, orientation='vertical')\n",
    "\n",
    "ax2 = fig.add_subplot(122)\n",
    "ax2.title.set_text('Second component')\n",
    "im2 = ax2.imshow(results[prefix][2], cmap='RdBu')\n",
    "divider = make_axes_locatable(ax2)\n",
    "cax = divider.append_axes('right', size='5%', pad=0.15)\n",
    "fig.colorbar(im2, cax=cax, orientation='vertical')"
   ]
  },
  {
   "cell_type": "code",
   "execution_count": 23,
   "metadata": {
    "pycharm": {
     "is_executing": false,
     "name": "#%%\n"
    }
   },
   "outputs": [
    {
     "data": {
      "text/plain": [
       "(0.6268045392192606, 0.46300665512516403)"
      ]
     },
     "execution_count": 23,
     "metadata": {},
     "output_type": "execute_result"
    }
   ],
   "source": [
    "compute_cca(big_small, two_cubes), compute_cca(big_small, two_cubes, 2, 2)"
   ]
  },
  {
   "cell_type": "code",
   "execution_count": 24,
   "metadata": {
    "pycharm": {
     "is_executing": false,
     "name": "#%%\n"
    }
   },
   "outputs": [
    {
     "data": {
      "text/plain": [
       "(0.3738581538063278, 0.3662448099919576)"
      ]
     },
     "execution_count": 24,
     "metadata": {},
     "output_type": "execute_result"
    }
   ],
   "source": [
    "compute_cca(cube_sphere, two_cubes), compute_cca(cube_sphere, two_cubes, 2, 2)"
   ]
  },
  {
   "cell_type": "code",
   "execution_count": 25,
   "metadata": {
    "pycharm": {
     "is_executing": false,
     "name": "#%%\n"
    }
   },
   "outputs": [
    {
     "data": {
      "text/plain": [
       "(0.9800513402837515, 0.9561901163140822)"
      ]
     },
     "execution_count": 25,
     "metadata": {},
     "output_type": "execute_result"
    }
   ],
   "source": [
    "compute_cca(cube_cylinder, two_cubes), compute_cca(cube_cylinder, two_cubes, 2, 2)"
   ]
  },
  {
   "cell_type": "code",
   "execution_count": 26,
   "metadata": {
    "pycharm": {
     "is_executing": false,
     "name": "#%%\n"
    }
   },
   "outputs": [
    {
     "data": {
      "text/plain": [
       "(0.628543947056493, 0.5454892654507897)"
      ]
     },
     "execution_count": 26,
     "metadata": {},
     "output_type": "execute_result"
    }
   ],
   "source": [
    "compute_cca(cube_capsule, two_cubes), compute_cca(cube_capsule, two_cubes, 2, 2)"
   ]
  },
  {
   "cell_type": "code",
   "execution_count": 27,
   "metadata": {
    "pycharm": {
     "is_executing": false,
     "name": "#%%\n"
    }
   },
   "outputs": [
    {
     "data": {
      "text/plain": [
       "(0.3987824145039691, 0.34872836569407406)"
      ]
     },
     "execution_count": 27,
     "metadata": {},
     "output_type": "execute_result"
    }
   ],
   "source": [
    "compute_cca(big_small, cube_sphere), compute_cca(big_small, cube_sphere, 2, 2)"
   ]
  },
  {
   "cell_type": "code",
   "execution_count": 28,
   "metadata": {
    "pycharm": {
     "is_executing": false,
     "name": "#%%\n"
    }
   },
   "outputs": [
    {
     "data": {
      "text/plain": [
       "(0.37441646332326667, 0.2553787240606845)"
      ]
     },
     "execution_count": 28,
     "metadata": {},
     "output_type": "execute_result"
    }
   ],
   "source": [
    "compute_cca(cube_cylinder, cube_sphere), compute_cca(cube_cylinder, cube_sphere, 2, 2)"
   ]
  },
  {
   "cell_type": "code",
   "execution_count": 29,
   "metadata": {
    "pycharm": {
     "is_executing": false,
     "name": "#%%\n"
    }
   },
   "outputs": [
    {
     "data": {
      "text/plain": [
       "(0.8318575598334841, 0.4192651765974623)"
      ]
     },
     "execution_count": 29,
     "metadata": {},
     "output_type": "execute_result"
    }
   ],
   "source": [
    "compute_cca(cube_capsule, cube_sphere), compute_cca(cube_capsule, cube_sphere, 2, 2)"
   ]
  },
  {
   "cell_type": "code",
   "execution_count": 30,
   "metadata": {
    "pycharm": {
     "is_executing": false,
     "name": "#%%\n"
    }
   },
   "outputs": [
    {
     "data": {
      "text/plain": [
       "(0.5141732114749205, 0.47588575612383377)"
      ]
     },
     "execution_count": 30,
     "metadata": {},
     "output_type": "execute_result"
    }
   ],
   "source": [
    "compute_cca(big_small, cube_cylinder), compute_cca(big_small, cube_cylinder, 2, 2)"
   ]
  },
  {
   "cell_type": "code",
   "execution_count": 31,
   "metadata": {
    "pycharm": {
     "is_executing": false,
     "name": "#%%\n"
    }
   },
   "outputs": [
    {
     "data": {
      "text/plain": [
       "(0.6038511980758192, 0.5643330753251448)"
      ]
     },
     "execution_count": 31,
     "metadata": {},
     "output_type": "execute_result"
    }
   ],
   "source": [
    "compute_cca(cube_capsule, cube_cylinder), compute_cca(cube_capsule, cube_cylinder, 2, 2)"
   ]
  },
  {
   "cell_type": "markdown",
   "metadata": {},
   "source": [
    "## Angles"
   ]
  },
  {
   "cell_type": "code",
   "execution_count": 32,
   "metadata": {
    "pycharm": {
     "is_executing": false,
     "name": "#%%\n"
    }
   },
   "outputs": [
    {
     "data": {
      "text/plain": [
       "1.4101357212731198"
      ]
     },
     "execution_count": 32,
     "metadata": {},
     "output_type": "execute_result"
    }
   ],
   "source": [
    "angles_sub(two_cubes, big_small)"
   ]
  },
  {
   "cell_type": "code",
   "execution_count": 33,
   "metadata": {
    "pycharm": {
     "is_executing": false,
     "name": "#%%\n"
    }
   },
   "outputs": [
    {
     "data": {
      "text/plain": [
       "1.2830249496699526"
      ]
     },
     "execution_count": 33,
     "metadata": {},
     "output_type": "execute_result"
    }
   ],
   "source": [
    "angles_sub(two_cubes, cube_sphere)"
   ]
  },
  {
   "cell_type": "code",
   "execution_count": 34,
   "metadata": {
    "pycharm": {
     "is_executing": false,
     "name": "#%%\n"
    }
   },
   "outputs": [
    {
     "data": {
      "text/plain": [
       "1.3630511567784958"
      ]
     },
     "execution_count": 34,
     "metadata": {},
     "output_type": "execute_result"
    }
   ],
   "source": [
    "angles_sub(two_cubes, cube_cylinder)"
   ]
  },
  {
   "cell_type": "code",
   "execution_count": 35,
   "metadata": {
    "pycharm": {
     "is_executing": false,
     "name": "#%%\n"
    }
   },
   "outputs": [
    {
     "data": {
      "text/plain": [
       "1.6838926884324752"
      ]
     },
     "execution_count": 35,
     "metadata": {},
     "output_type": "execute_result"
    }
   ],
   "source": [
    "angles_sub(two_cubes, cube_capsule)"
   ]
  },
  {
   "cell_type": "markdown",
   "metadata": {},
   "source": [
    "# 122521 (Imprecise Policy)"
   ]
  },
  {
   "cell_type": "code",
   "execution_count": 36,
   "metadata": {
    "pycharm": {
     "is_executing": false,
     "name": "#%%\n"
    }
   },
   "outputs": [],
   "source": [
    "prefix = \"122521\"\n",
    "results[prefix] = {}\n",
    "two_cubes,cube_sphere,cube_cylinder,cube_capsule,big_small = load_data(prefix)"
   ]
  },
  {
   "cell_type": "code",
   "execution_count": 37,
   "metadata": {
    "pycharm": {
     "is_executing": false,
     "name": "#%%\n"
    }
   },
   "outputs": [
    {
     "data": {
      "text/plain": [
       "((1000, 19), (1000, 19), (1000, 19), (1000, 19), (1000, 19))"
      ]
     },
     "execution_count": 37,
     "metadata": {},
     "output_type": "execute_result"
    }
   ],
   "source": [
    "two_cubes = pd.DataFrame(pad(two_cubes.to_numpy()))\n",
    "two_cubes = two_cubes.drop(two_cubes.iloc[:,16:22], axis = 1)\n",
    "two_cubes = two_cubes.drop(two_cubes.iloc[:,0:3], axis = 1)\n",
    "two_cubes = two_cubes.head(n)\n",
    "\n",
    "cube_sphere = pd.DataFrame(pad(cube_sphere.to_numpy()))\n",
    "cube_sphere = cube_sphere.drop(cube_sphere.iloc[:,16:22], axis = 1)\n",
    "cube_sphere = cube_sphere.drop(cube_sphere.iloc[:,0:3], axis = 1)\n",
    "cube_sphere = cube_sphere.head(n)\n",
    "\n",
    "cube_cylinder = pd.DataFrame(pad(cube_cylinder.to_numpy()))\n",
    "cube_cylinder = cube_cylinder.drop(cube_cylinder.iloc[:,16:22], axis = 1)\n",
    "cube_cylinder = cube_cylinder.drop(cube_cylinder.iloc[:,0:3], axis = 1)\n",
    "cube_cylinder = cube_cylinder.head(n)\n",
    "\n",
    "cube_capsule = pd.DataFrame(pad(cube_capsule.to_numpy()))\n",
    "cube_capsule = cube_capsule.drop(cube_capsule.iloc[:,16:22], axis = 1)\n",
    "cube_capsule = cube_capsule.drop(cube_capsule.iloc[:,0:3], axis = 1)\n",
    "cube_capsule = cube_capsule.head(n)\n",
    "\n",
    "big_small = pd.DataFrame(pad(big_small.to_numpy()))\n",
    "big_small = big_small.drop(big_small.iloc[:,16:22], axis = 1)\n",
    "big_small = big_small.drop(big_small.iloc[:,0:3], axis = 1)\n",
    "big_small = big_small.head(n)\n",
    "\n",
    "two_cubes.shape,cube_sphere.shape,cube_cylinder.shape,cube_capsule.shape,big_small.shape"
   ]
  },
  {
   "cell_type": "code",
   "execution_count": 38,
   "metadata": {
    "pycharm": {
     "is_executing": false
    }
   },
   "outputs": [],
   "source": [
    "cat_list = [two_cubes,cube_sphere,cube_cylinder,cube_capsule,big_small]"
   ]
  },
  {
   "cell_type": "code",
   "execution_count": 39,
   "metadata": {
    "pycharm": {
     "is_executing": false
    }
   },
   "outputs": [
    {
     "data": {
      "text/plain": [
       "array([[1.        , 0.42476182, 0.93672038, 0.74673105, 0.98960025],\n",
       "       [0.42476579, 1.        , 0.35777704, 0.83225796, 0.35264944],\n",
       "       [0.96731786, 0.35777789, 1.        , 0.78057718, 0.54062887],\n",
       "       [0.74673528, 0.83225778, 0.78057804, 1.        , 0.56503044],\n",
       "       [0.98960303, 0.35264964, 0.5406328 , 0.56502608, 1.        ]])"
      ]
     },
     "execution_count": 39,
     "metadata": {},
     "output_type": "execute_result"
    }
   ],
   "source": [
    "mat = np.zeros(shape=(len(cat_list),len(cat_list)))\n",
    "for i in range(len(cat_list)):\n",
    "    for j in range(len(cat_list)):\n",
    "        mat[i,j] = compute_cca(cat_list[i], cat_list[j])\n",
    "results[prefix][1] = mat\n",
    "results[prefix][1]"
   ]
  },
  {
   "cell_type": "code",
   "execution_count": 40,
   "metadata": {},
   "outputs": [
    {
     "data": {
      "text/plain": [
       "array([[1.        , 0.31989323, 0.96110162, 0.58731543, 0.63510899],\n",
       "       [0.31989224, 1.        , 0.32667969, 0.39777359, 0.31810693],\n",
       "       [0.93602639, 0.32657281, 1.        , 0.56104574, 0.50363773],\n",
       "       [0.58731373, 0.39777356, 0.56104827, 1.        , 0.50449627],\n",
       "       [0.63510667, 0.31810611, 0.50439686, 0.50450009, 1.        ]])"
      ]
     },
     "execution_count": 40,
     "metadata": {},
     "output_type": "execute_result"
    }
   ],
   "source": [
    "mat = np.zeros(shape=(len(cat_list),len(cat_list)))\n",
    "for i in range(len(cat_list)):\n",
    "    for j in range(len(cat_list)):\n",
    "        mat[i,j] = compute_cca(cat_list[i], cat_list[j], n_components=2, c=2)\n",
    "results[prefix][2] = mat\n",
    "results[prefix][2]"
   ]
  },
  {
   "cell_type": "code",
   "execution_count": 41,
   "metadata": {
    "pycharm": {
     "is_executing": false
    }
   },
   "outputs": [
    {
     "data": {
      "text/plain": [
       "<matplotlib.colorbar.Colorbar at 0x7fb5c100c1d0>"
      ]
     },
     "execution_count": 41,
     "metadata": {},
     "output_type": "execute_result"
    },
    {
     "data": {
      "image/png": "[encoded data removed]",
      "text/plain": [
       "<Figure size 864x288 with 4 Axes>"
      ]
     },
     "metadata": {
      "needs_background": "light"
     },
     "output_type": "display_data"
    }
   ],
   "source": [
    "fig = plt.figure(figsize=(12, 4))\n",
    "fig.suptitle(prefix)\n",
    "\n",
    "ax1 = fig.add_subplot(121)\n",
    "ax1.title.set_text('First component')\n",
    "im1 = ax1.imshow(results[prefix][1], cmap='RdBu')\n",
    "divider = make_axes_locatable(ax1)\n",
    "cax = divider.append_axes('right', size='5%', pad=0.15)\n",
    "fig.colorbar(im1, cax=cax, orientation='vertical')\n",
    "\n",
    "ax2 = fig.add_subplot(122)\n",
    "ax2.title.set_text('Second component')\n",
    "im2 = ax2.imshow(results[prefix][2], cmap='RdBu')\n",
    "divider = make_axes_locatable(ax2)\n",
    "cax = divider.append_axes('right', size='5%', pad=0.15)\n",
    "fig.colorbar(im2, cax=cax, orientation='vertical')"
   ]
  },
  {
   "cell_type": "code",
   "execution_count": 42,
   "metadata": {
    "pycharm": {
     "is_executing": false,
     "name": "#%%\n"
    }
   },
   "outputs": [
    {
     "data": {
      "text/plain": [
       "(0.9896030314929232, 0.6351066723047347)"
      ]
     },
     "execution_count": 42,
     "metadata": {},
     "output_type": "execute_result"
    }
   ],
   "source": [
    "compute_cca(big_small, two_cubes), compute_cca(big_small, two_cubes, 2, 2)"
   ]
  },
  {
   "cell_type": "code",
   "execution_count": 43,
   "metadata": {
    "pycharm": {
     "is_executing": false,
     "name": "#%%\n"
    }
   },
   "outputs": [
    {
     "data": {
      "text/plain": [
       "(0.42476579243301793, 0.31989224140384553)"
      ]
     },
     "execution_count": 43,
     "metadata": {},
     "output_type": "execute_result"
    }
   ],
   "source": [
    "compute_cca(cube_sphere, two_cubes), compute_cca(cube_sphere, two_cubes, 2, 2)"
   ]
  },
  {
   "cell_type": "code",
   "execution_count": 44,
   "metadata": {
    "pycharm": {
     "is_executing": false,
     "name": "#%%\n"
    }
   },
   "outputs": [
    {
     "data": {
      "text/plain": [
       "(0.9673178608923243, 0.9360263891835824)"
      ]
     },
     "execution_count": 44,
     "metadata": {},
     "output_type": "execute_result"
    }
   ],
   "source": [
    "compute_cca(cube_cylinder, two_cubes), compute_cca(cube_cylinder, two_cubes, 2, 2)"
   ]
  },
  {
   "cell_type": "code",
   "execution_count": 45,
   "metadata": {
    "pycharm": {
     "is_executing": false,
     "name": "#%%\n"
    }
   },
   "outputs": [
    {
     "data": {
      "text/plain": [
       "(0.7467352788845034, 0.5873137296936175)"
      ]
     },
     "execution_count": 45,
     "metadata": {},
     "output_type": "execute_result"
    }
   ],
   "source": [
    "compute_cca(cube_capsule, two_cubes), compute_cca(cube_capsule, two_cubes, 2, 2)"
   ]
  },
  {
   "cell_type": "code",
   "execution_count": 46,
   "metadata": {
    "pycharm": {
     "is_executing": false,
     "name": "#%%\n"
    }
   },
   "outputs": [
    {
     "data": {
      "text/plain": [
       "(0.3526496373832649, 0.3181061100735586)"
      ]
     },
     "execution_count": 46,
     "metadata": {},
     "output_type": "execute_result"
    }
   ],
   "source": [
    "compute_cca(big_small, cube_sphere), compute_cca(big_small, cube_sphere, 2, 2)"
   ]
  },
  {
   "cell_type": "code",
   "execution_count": 47,
   "metadata": {
    "pycharm": {
     "is_executing": false,
     "name": "#%%\n"
    }
   },
   "outputs": [
    {
     "data": {
      "text/plain": [
       "(0.35777788631368945, 0.326572807223363)"
      ]
     },
     "execution_count": 47,
     "metadata": {},
     "output_type": "execute_result"
    }
   ],
   "source": [
    "compute_cca(cube_cylinder, cube_sphere), compute_cca(cube_cylinder, cube_sphere, 2, 2)"
   ]
  },
  {
   "cell_type": "code",
   "execution_count": 48,
   "metadata": {
    "pycharm": {
     "is_executing": false,
     "name": "#%%\n"
    }
   },
   "outputs": [
    {
     "data": {
      "text/plain": [
       "(0.8322577841677498, 0.3977735625973264)"
      ]
     },
     "execution_count": 48,
     "metadata": {},
     "output_type": "execute_result"
    }
   ],
   "source": [
    "compute_cca(cube_capsule, cube_sphere), compute_cca(cube_capsule, cube_sphere, 2, 2)"
   ]
  },
  {
   "cell_type": "code",
   "execution_count": 49,
   "metadata": {
    "pycharm": {
     "is_executing": false,
     "name": "#%%\n"
    }
   },
   "outputs": [
    {
     "data": {
      "text/plain": [
       "(0.5406327952105061, 0.5043968579914784)"
      ]
     },
     "execution_count": 49,
     "metadata": {},
     "output_type": "execute_result"
    }
   ],
   "source": [
    "compute_cca(big_small, cube_cylinder), compute_cca(big_small, cube_cylinder, 2, 2)"
   ]
  },
  {
   "cell_type": "code",
   "execution_count": 50,
   "metadata": {
    "pycharm": {
     "is_executing": false,
     "name": "#%%\n"
    }
   },
   "outputs": [
    {
     "data": {
      "text/plain": [
       "(0.7805780393105469, 0.5610482686001343)"
      ]
     },
     "execution_count": 50,
     "metadata": {},
     "output_type": "execute_result"
    }
   ],
   "source": [
    "compute_cca(cube_capsule, cube_cylinder), compute_cca(cube_capsule, cube_cylinder, 2, 2)"
   ]
  },
  {
   "cell_type": "markdown",
   "metadata": {},
   "source": [
    "## Angles"
   ]
  },
  {
   "cell_type": "code",
   "execution_count": 51,
   "metadata": {
    "pycharm": {
     "is_executing": false,
     "name": "#%%\n"
    }
   },
   "outputs": [
    {
     "data": {
      "text/plain": [
       "1.832405111693747"
      ]
     },
     "execution_count": 51,
     "metadata": {},
     "output_type": "execute_result"
    }
   ],
   "source": [
    "angles_sub(two_cubes, big_small)"
   ]
  },
  {
   "cell_type": "code",
   "execution_count": 52,
   "metadata": {
    "pycharm": {
     "is_executing": false,
     "name": "#%%\n"
    }
   },
   "outputs": [
    {
     "data": {
      "text/plain": [
       "1.5055949994357538"
      ]
     },
     "execution_count": 52,
     "metadata": {},
     "output_type": "execute_result"
    }
   ],
   "source": [
    "angles_sub(two_cubes, cube_sphere)"
   ]
  },
  {
   "cell_type": "code",
   "execution_count": 53,
   "metadata": {
    "pycharm": {
     "is_executing": false,
     "name": "#%%\n"
    }
   },
   "outputs": [
    {
     "data": {
      "text/plain": [
       "1.6536366966092033"
      ]
     },
     "execution_count": 53,
     "metadata": {},
     "output_type": "execute_result"
    }
   ],
   "source": [
    "angles_sub(two_cubes, cube_cylinder)"
   ]
  },
  {
   "cell_type": "code",
   "execution_count": 54,
   "metadata": {
    "pycharm": {
     "is_executing": false,
     "name": "#%%\n"
    }
   },
   "outputs": [
    {
     "data": {
      "text/plain": [
       "1.6008049177356725"
      ]
     },
     "execution_count": 54,
     "metadata": {},
     "output_type": "execute_result"
    }
   ],
   "source": [
    "angles_sub(two_cubes, cube_capsule)"
   ]
  },
  {
   "cell_type": "markdown",
   "metadata": {
    "pycharm": {
     "name": "#%%\n"
    }
   },
   "source": [
    "# Averages"
   ]
  },
  {
   "cell_type": "code",
   "execution_count": 55,
   "metadata": {},
   "outputs": [
    {
     "data": {
      "text/plain": [
       "(array([[1.        , 0.36672349, 0.9800603 , 0.62534557, 0.62609622],\n",
       "        [0.37385815, 1.        , 0.37441782, 0.8318576 , 0.39878292],\n",
       "        [0.98005134, 0.37441646, 1.        , 0.60385974, 0.51501876],\n",
       "        [0.62854395, 0.83185756, 0.6038512 , 1.        , 0.45688137],\n",
       "        [0.62680454, 0.39878241, 0.51417321, 0.45685604, 1.        ]]),\n",
       " array([[1.        , 0.42476182, 0.93672038, 0.74673105, 0.98960025],\n",
       "        [0.42476579, 1.        , 0.35777704, 0.83225796, 0.35264944],\n",
       "        [0.96731786, 0.35777789, 1.        , 0.78057718, 0.54062887],\n",
       "        [0.74673528, 0.83225778, 0.78057804, 1.        , 0.56503044],\n",
       "        [0.98960303, 0.35264964, 0.5406328 , 0.56502608, 1.        ]]),\n",
       " array([[1.        , 0.39574265, 0.95839034, 0.68603831, 0.80784824],\n",
       "        [0.39931197, 1.        , 0.36609743, 0.83205778, 0.37571618],\n",
       "        [0.9736846 , 0.36609717, 1.        , 0.69221846, 0.52782382],\n",
       "        [0.68763961, 0.83205767, 0.69221462, 1.        , 0.51095591],\n",
       "        [0.80820379, 0.37571603, 0.527403  , 0.51094106, 1.        ]]))"
      ]
     },
     "execution_count": 55,
     "metadata": {},
     "output_type": "execute_result"
    }
   ],
   "source": [
    "results['122921'][1], results['122521'][1], (results['122921'][1]+results['122521'][1])/2."
   ]
  },
  {
   "cell_type": "code",
   "execution_count": 56,
   "metadata": {},
   "outputs": [
    {
     "data": {
      "text/plain": [
       "<matplotlib.colorbar.Colorbar at 0x7fb5a0ced190>"
      ]
     },
     "execution_count": 56,
     "metadata": {},
     "output_type": "execute_result"
    },
    {
     "data": {
      "image/png": "[encoded data removed]",
      "text/plain": [
       "<Figure size 864x288 with 6 Axes>"
      ]
     },
     "metadata": {
      "needs_background": "light"
     },
     "output_type": "display_data"
    },
    {
     "data": {
      "image/png": "[encoded data removed]",
      "text/plain": [
       "<Figure size 864x288 with 6 Axes>"
      ]
     },
     "metadata": {
      "needs_background": "light"
     },
     "output_type": "display_data"
    }
   ],
   "source": [
    "fig = plt.figure(figsize=(12, 4))\n",
    "fig.suptitle('First component')\n",
    "\n",
    "ax1 = fig.add_subplot(131)\n",
    "ax1.title.set_text('122921')\n",
    "im1 = ax1.imshow(results['122921'][1], cmap='RdBu')\n",
    "divider = make_axes_locatable(ax1)\n",
    "cax = divider.append_axes('right', size='5%', pad=0.15)\n",
    "fig.colorbar(im1, cax=cax, orientation='vertical')\n",
    "\n",
    "ax2 = fig.add_subplot(132)\n",
    "ax2.title.set_text('122521')\n",
    "im2 = ax2.imshow(results['122521'][1], cmap='RdBu')\n",
    "divider = make_axes_locatable(ax2)\n",
    "cax = divider.append_axes('right', size='5%', pad=0.15)\n",
    "fig.colorbar(im2, cax=cax, orientation='vertical')\n",
    "\n",
    "ax3 = fig.add_subplot(133)\n",
    "ax3.title.set_text('Average')\n",
    "im3 = ax3.imshow((results['122921'][1]+results['122521'][1])/2., cmap='RdBu')\n",
    "divider = make_axes_locatable(ax3)\n",
    "cax = divider.append_axes('right', size='5%', pad=0.15)\n",
    "fig.colorbar(im3, cax=cax, orientation='vertical')\n",
    "\n",
    "fig = plt.figure(figsize=(12, 4))\n",
    "fig.suptitle('Second component')\n",
    "\n",
    "ax1 = fig.add_subplot(131)\n",
    "ax1.title.set_text('122921')\n",
    "im1 = ax1.imshow(results['122921'][2], cmap='RdBu')\n",
    "divider = make_axes_locatable(ax1)\n",
    "cax = divider.append_axes('right', size='5%', pad=0.15)\n",
    "fig.colorbar(im1, cax=cax, orientation='vertical')\n",
    "\n",
    "ax2 = fig.add_subplot(132)\n",
    "ax2.title.set_text('122521')\n",
    "im2 = ax2.imshow(results['122521'][2], cmap='RdBu')\n",
    "divider = make_axes_locatable(ax2)\n",
    "cax = divider.append_axes('right', size='5%', pad=0.15)\n",
    "fig.colorbar(im2, cax=cax, orientation='vertical')\n",
    "\n",
    "ax3 = fig.add_subplot(133)\n",
    "ax3.title.set_text('Average')\n",
    "im3 = ax3.imshow((results['122921'][2]+results['122521'][2])/2., cmap='RdBu')\n",
    "divider = make_axes_locatable(ax3)\n",
    "cax = divider.append_axes('right', size='5%', pad=0.15)\n",
    "fig.colorbar(im3, cax=cax, orientation='vertical')"
   ]
  },
  {
   "cell_type": "code",
   "execution_count": null,
   "metadata": {},
   "outputs": [],
   "source": []
  }
 ],
 "metadata": {
  "kernelspec": {
   "display_name": "Python 3 (ipykernel)",
   "language": "python",
   "name": "python3"
  },
  "language_info": {
   "codemirror_mode": {
    "name": "ipython",
    "version": 3
   },
   "file_extension": ".py",
   "mimetype": "text/x-python",
   "name": "python",
   "nbconvert_exporter": "python",
   "pygments_lexer": "ipython3",
   "version": "3.7.5"
  },
  "pycharm": {
   "stem_cell": {
    "cell_type": "raw",
    "metadata": {
     "collapsed": false
    },
    "source": []
   }
  }
 },
 "nbformat": 4,
 "nbformat_minor": 1
}
