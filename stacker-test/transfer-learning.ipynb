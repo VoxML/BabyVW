{
 "cells": [
  {
   "cell_type": "code",
   "execution_count": 1,
   "metadata": {},
   "outputs": [
    {
     "name": "stderr",
     "output_type": "stream",
     "text": [
      "C:\\Users\\sadafgh\\.conda\\envs\\py36\\lib\\site-packages\\setuptools\\distutils_patch.py:26: UserWarning: Distutils was imported before Setuptools. This usage is discouraged and may exhibit undesirable behaviors or errors. Please use Setuptools' objects directly or at least import Setuptools first.\n",
      "  \"Distutils was imported before Setuptools. This usage is discouraged \"\n"
     ]
    }
   ],
   "source": [
    "from stacker_env import StackerEnv\n",
    "import numpy as np\n",
    "\n",
    "from stable_baselines3 import PPO, A2C, SAC, TD3\n",
    "from stable_baselines3.common.noise import NormalActionNoise\n",
    "from stable_baselines3.common.monitor import Monitor"
   ]
  },
  {
   "cell_type": "code",
   "execution_count": 2,
   "metadata": {},
   "outputs": [
    {
     "name": "stderr",
     "output_type": "stream",
     "text": [
      "C:\\Users\\sadafgh\\.conda\\envs\\py36\\lib\\site-packages\\gym\\logger.py:34: UserWarning: \u001b[33mWARN: Box bound precision lowered by casting to float32\u001b[0m\n",
      "  warnings.warn(colorize(\"%s: %s\" % (\"WARN\", msg % args), \"yellow\"))\n"
     ]
    },
    {
     "name": "stdout",
     "output_type": "stream",
     "text": [
      "Resetting\n",
      "obs [0.         0.27577728 0.27593521]\n",
      "obs in reset: (3,)\n",
      "obs is None, setting obs to [0.         0.27577728 0.27593521]\n",
      "Stacking?team=0\n",
      "BehaviorSpec(observation_specs=[ObservationSpec(shape=(3,), dimension_property=(<DimensionProperty.UNSPECIFIED: 0>,), observation_type=<ObservationType.DEFAULT: 0>)], action_spec=ActionSpec(continuous_size=2, discrete_branches=()))\n"
     ]
    }
   ],
   "source": [
    "env = StackerEnv(vector_observation=True, visual_observation=False)"
   ]
  },
  {
   "cell_type": "code",
   "execution_count": 3,
   "metadata": {
    "collapsed": true,
    "jupyter": {
     "outputs_hidden": true
    }
   },
   "outputs": [
    {
     "name": "stdout",
     "output_type": "stream",
     "text": [
      "Using cpu device\n",
      "Wrapping the env with a `Monitor` wrapper\n",
      "Wrapping the env in a DummyVecEnv.\n",
      "Resetting\n",
      "obs [0.         0.83051127 0.60231075]\n",
      "obs in reset: (3,)\n",
      "obs is None, setting obs to [0.         0.83051127 0.60231075]\n",
      "last_action: [-inf -inf]\n",
      "action: [-0.58575943 -0.01083609]\n",
      "action shape: (1, 2)\n",
      "Step\n",
      "\tObservation: [array([[ 2.0000000e+00, -7.0660442e-02, -1.7063618e-03]], dtype=float32)]\tReward: [-1.]\n",
      "last_action: [-0.58575943 -0.01083609]\n",
      "action: [-0.87320278  0.49008116]\n",
      "action shape: (1, 2)\n",
      "Step\n",
      "\tObservation: [array([[ 2.        , -0.0826995 ,  0.03031844]], dtype=float32)]\tReward: [-1.]\n",
      "last_action: [-0.87320278  0.49008116]\n",
      "action: [-0.01423131 -0.17945568]\n",
      "action shape: (1, 2)\n",
      "Terminated\n",
      "\tObservation: [array([[ 1.        , -0.00122539, -0.01046073]], dtype=float32)]\tReward: [1.]\tInterrupted: [False]\n",
      "Resetting\n",
      "obs [ 0.         -0.82853698  0.13273651]\n",
      "obs in reset: (3,)\n",
      "obs is None, setting obs to [ 0.         -0.82853698  0.13273651]\n",
      "last_action: [-inf -inf]\n",
      "action: [-0.94017308  0.42698022]\n",
      "action shape: (1, 2)\n",
      "Step\n",
      "\tObservation: [array([[ 2.        , -0.08371374,  0.02561334]], dtype=float32)]\tReward: [-1.]\n",
      "last_action: [-0.94017308  0.42698022]\n",
      "action: [-0.22505846  0.19295457]\n",
      "action shape: (1, 2)\n",
      "Terminated\n",
      "\tObservation: [array([[ 1.        , -0.01273793,  0.01134872]], dtype=float32)]\tReward: [1.]\tInterrupted: [False]\n",
      "Resetting\n",
      "obs [ 0.          0.96578872 -0.26686136]\n",
      "obs in reset: (3,)\n",
      "obs is None, setting obs to [ 0.          0.96578872 -0.26686136]\n",
      "last_action: [-inf -inf]\n",
      "action: [-0.58068318  0.7680345 ]\n",
      "action shape: (1, 2)\n",
      "Step\n",
      "\tObservation: [array([[ 4.        , -0.03864557,  0.0820303 ]], dtype=float32)]\tReward: [-1.]\n",
      "last_action: [-0.58068318  0.7680345 ]\n",
      "action: [ 0.66191994 -0.50149049]\n",
      "action shape: (1, 2)\n",
      "Step\n",
      "\tObservation: [array([[ 3.        ,  0.07480846, -0.02186036]], dtype=float32)]\tReward: [-1.]\n",
      "last_action: [ 0.66191994 -0.50149049]\n",
      "action: [-0.40689117  1.        ]\n",
      "action shape: (1, 2)\n",
      "Step\n",
      "\tObservation: [array([[ 4.        , -0.0206783 ,  0.08735698]], dtype=float32)]\tReward: [-1.]\n",
      "last_action: [-0.40689117  1.        ]\n",
      "action: [ 0.3832597  -0.33898166]\n",
      "action shape: (1, 2)\n",
      "Terminated\n",
      "\tObservation: [array([[ 1.        ,  0.02094219, -0.01834279]], dtype=float32)]\tReward: [1.]\tInterrupted: [False]\n",
      "Resetting\n",
      "obs [ 0.          0.5932111  -0.12616743]\n",
      "obs in reset: (3,)\n",
      "obs is None, setting obs to [ 0.          0.5932111  -0.12616743]\n",
      "last_action: [-inf -inf]\n",
      "action: [ 1.         -0.92291524]\n",
      "action shape: (1, 2)\n",
      "Step\n",
      "\tObservation: [array([[ 0.        ,  0.05145027, -0.04737309]], dtype=float32)]\tReward: [-1.]\n",
      "last_action: [ 1.         -0.92291524]\n",
      "action: [-0.25774227  0.45930677]\n",
      "action shape: (1, 2)\n",
      "Step\n",
      "\tObservation: [array([[ 4.        , -0.01292751,  0.066468  ]], dtype=float32)]\tReward: [-1.]\n",
      "last_action: [-0.25774227  0.45930677]\n",
      "action: [-0.1138796   0.01508196]\n",
      "action shape: (1, 2)\n",
      "Terminated\n",
      "\tObservation: [array([[ 1.000000e+00, -6.269291e-03,  9.854436e-04]], dtype=float32)]\tReward: [1.]\tInterrupted: [False]\n",
      "Resetting\n",
      "obs [ 0.         -0.20432852  0.17569791]\n",
      "obs in reset: (3,)\n",
      "obs is None, setting obs to [ 0.         -0.20432852  0.17569791]\n",
      "---------------------------------\n",
      "| rollout/           |          |\n",
      "|    ep_len_mean     | 3        |\n",
      "|    ep_rew_mean     | -1       |\n",
      "| time/              |          |\n",
      "|    episodes        | 4        |\n",
      "|    fps             | 0        |\n",
      "|    time_elapsed    | 17       |\n",
      "|    total_timesteps | 12       |\n",
      "---------------------------------\n"
     ]
    },
    {
     "data": {
      "text/plain": [
       "<stable_baselines3.td3.td3.TD3 at 0x17492ca76d8>"
      ]
     },
     "execution_count": 3,
     "metadata": {},
     "output_type": "execute_result"
    }
   ],
   "source": [
    "n_actions = env.action_space.shape[-1]\n",
    "action_noise = NormalActionNoise(mean=np.zeros(n_actions), sigma=0.1 * np.ones(n_actions))\n",
    "\n",
    "model_source = TD3(\"MlpPolicy\", env, action_noise=action_noise, verbose=1)\n",
    "model_source.learn(total_timesteps=10)"
   ]
  },
  {
   "cell_type": "code",
   "execution_count": 4,
   "metadata": {},
   "outputs": [],
   "source": [
    "env.close()"
   ]
  },
  {
   "cell_type": "markdown",
   "metadata": {},
   "source": [
    "### change the task in unity (change it to cube and sphere) and do transfer learning"
   ]
  },
  {
   "cell_type": "code",
   "execution_count": 5,
   "metadata": {},
   "outputs": [
    {
     "name": "stdout",
     "output_type": "stream",
     "text": [
      "Resetting\n",
      "obs [ 0.          0.78731125 -0.94376511]\n",
      "obs in reset: (3,)\n",
      "obs is None, setting obs to [ 0.          0.78731125 -0.94376511]\n",
      "Stacking?team=0\n",
      "BehaviorSpec(observation_specs=[ObservationSpec(shape=(3,), dimension_property=(<DimensionProperty.UNSPECIFIED: 0>,), observation_type=<ObservationType.DEFAULT: 0>)], action_spec=ActionSpec(continuous_size=2, discrete_branches=()))\n"
     ]
    }
   ],
   "source": [
    "env_1 = StackerEnv(vector_observation=True, visual_observation=False)"
   ]
  },
  {
   "cell_type": "code",
   "execution_count": 6,
   "metadata": {},
   "outputs": [],
   "source": [
    "state_dict = model_source.get_parameters()"
   ]
  },
  {
   "cell_type": "code",
   "execution_count": 7,
   "metadata": {},
   "outputs": [
    {
     "name": "stdout",
     "output_type": "stream",
     "text": [
      "Using cpu device\n",
      "Wrapping the env with a `Monitor` wrapper\n",
      "Wrapping the env in a DummyVecEnv.\n"
     ]
    }
   ],
   "source": [
    "n_actions = env_1.action_space.shape[-1]\n",
    "action_noise = NormalActionNoise(mean=np.zeros(n_actions), sigma=0.1 * np.ones(n_actions))\n",
    "model_dest = TD3(\"MlpPolicy\", env_1, action_noise=action_noise, verbose=1)"
   ]
  },
  {
   "cell_type": "code",
   "execution_count": 8,
   "metadata": {},
   "outputs": [],
   "source": [
    "model_dest.set_parameters(state_dict)"
   ]
  },
  {
   "cell_type": "code",
   "execution_count": null,
   "metadata": {},
   "outputs": [],
   "source": [
    "model_dest.learn(total_timesteps=50)"
   ]
  },
  {
   "cell_type": "code",
   "execution_count": 10,
   "metadata": {},
   "outputs": [],
   "source": [
    "env_1.close()"
   ]
  },
  {
   "cell_type": "code",
   "execution_count": null,
   "metadata": {},
   "outputs": [],
   "source": []
  }
 ],
 "metadata": {
  "kernelspec": {
   "display_name": "Python 3",
   "language": "python",
   "name": "python3"
  },
  "language_info": {
   "codemirror_mode": {
    "name": "ipython",
    "version": 3
   },
   "file_extension": ".py",
   "mimetype": "text/x-python",
   "name": "python",
   "nbconvert_exporter": "python",
   "pygments_lexer": "ipython3",
   "version": "3.6.10"
  }
 },
 "nbformat": 4,
 "nbformat_minor": 4
}
