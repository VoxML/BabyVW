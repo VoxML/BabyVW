{
 "cells": [
  {
   "cell_type": "code",
   "execution_count": 3,
   "metadata": {
    "id": "EaUQKPPygEHp"
   },
   "outputs": [],
   "source": [
    "from sklearn.model_selection import cross_validate\n",
    "from sklearn.model_selection import cross_val_score\n",
    "from sklearn.tree import DecisionTreeClassifier \n",
    "from sklearn.model_selection import train_test_split \n",
    "from sklearn import metrics \n",
    "import pandas as pd\n",
    "import numpy as np\n",
    "from sklearn import svm\n",
    "from sklearn.model_selection import StratifiedKFold\n",
    "from sklearn.neighbors import KNeighborsClassifier\n",
    "from sklearn.model_selection import cross_val_predict\n",
    "from sklearn.ensemble import RandomForestClassifier"
   ]
  },
  {
   "cell_type": "code",
   "execution_count": 4,
   "metadata": {
    "colab": {
     "base_uri": "https://localhost:8080/"
    },
    "id": "8nfhF-8ughzR",
    "outputId": "3c684ce2-de74-443f-e34a-a3284b5a328c"
   },
   "outputs": [
    {
     "data": {
      "text/plain": [
       "Int64Index([0, 1, 2, 3, 4, 5, 6, 7, 8, 9, 10, 11, 12, 13, 14, 15, 16], dtype='int64')"
      ]
     },
     "execution_count": 4,
     "metadata": {},
     "output_type": "execute_result"
    }
   ],
   "source": [
    "objects = pd.read_csv(\"objects.csv\", header= None)\n",
    "objects.columns"
   ]
  },
  {
   "cell_type": "code",
   "execution_count": 5,
   "metadata": {
    "colab": {
     "base_uri": "https://localhost:8080/",
     "height": 206
    },
    "id": "QY1AHz-dnBiH",
    "outputId": "22853644-4b30-4ee7-c44c-0af3ef6273e7"
   },
   "outputs": [
    {
     "data": {
      "text/html": [
       "<div>\n",
       "<style scoped>\n",
       "    .dataframe tbody tr th:only-of-type {\n",
       "        vertical-align: middle;\n",
       "    }\n",
       "\n",
       "    .dataframe tbody tr th {\n",
       "        vertical-align: top;\n",
       "    }\n",
       "\n",
       "    .dataframe thead th {\n",
       "        text-align: right;\n",
       "    }\n",
       "</style>\n",
       "<table border=\"1\" class=\"dataframe\">\n",
       "  <thead>\n",
       "    <tr style=\"text-align: right;\">\n",
       "      <th></th>\n",
       "      <th>0</th>\n",
       "      <th>1</th>\n",
       "      <th>2</th>\n",
       "      <th>3</th>\n",
       "      <th>4</th>\n",
       "      <th>5</th>\n",
       "      <th>6</th>\n",
       "      <th>7</th>\n",
       "      <th>8</th>\n",
       "      <th>9</th>\n",
       "      <th>10</th>\n",
       "      <th>11</th>\n",
       "      <th>12</th>\n",
       "      <th>13</th>\n",
       "      <th>14</th>\n",
       "      <th>15</th>\n",
       "      <th>16</th>\n",
       "    </tr>\n",
       "  </thead>\n",
       "  <tbody>\n",
       "    <tr>\n",
       "      <th>0</th>\n",
       "      <td>2</td>\n",
       "      <td>0</td>\n",
       "      <td>0</td>\n",
       "      <td>0.0</td>\n",
       "      <td>0.0</td>\n",
       "      <td>0.0</td>\n",
       "      <td>0.0</td>\n",
       "      <td>-0.308395</td>\n",
       "      <td>0.052266</td>\n",
       "      <td>0.003016</td>\n",
       "      <td>-0.083974</td>\n",
       "      <td>0.015296</td>\n",
       "      <td>0.015591</td>\n",
       "      <td>2.108191</td>\n",
       "      <td>1</td>\n",
       "      <td>1</td>\n",
       "      <td>1.0</td>\n",
       "    </tr>\n",
       "    <tr>\n",
       "      <th>1</th>\n",
       "      <td>4</td>\n",
       "      <td>0</td>\n",
       "      <td>0</td>\n",
       "      <td>0.0</td>\n",
       "      <td>0.0</td>\n",
       "      <td>0.0</td>\n",
       "      <td>0.0</td>\n",
       "      <td>-0.323877</td>\n",
       "      <td>0.357520</td>\n",
       "      <td>0.019840</td>\n",
       "      <td>-0.002934</td>\n",
       "      <td>0.011544</td>\n",
       "      <td>0.022952</td>\n",
       "      <td>2.075570</td>\n",
       "      <td>1</td>\n",
       "      <td>1</td>\n",
       "      <td>1.0</td>\n",
       "    </tr>\n",
       "    <tr>\n",
       "      <th>2</th>\n",
       "      <td>6</td>\n",
       "      <td>0</td>\n",
       "      <td>0</td>\n",
       "      <td>0.0</td>\n",
       "      <td>0.0</td>\n",
       "      <td>0.0</td>\n",
       "      <td>0.0</td>\n",
       "      <td>-0.324051</td>\n",
       "      <td>0.351527</td>\n",
       "      <td>0.010966</td>\n",
       "      <td>-0.015035</td>\n",
       "      <td>0.019175</td>\n",
       "      <td>0.022089</td>\n",
       "      <td>2.129273</td>\n",
       "      <td>1</td>\n",
       "      <td>1</td>\n",
       "      <td>1.0</td>\n",
       "    </tr>\n",
       "    <tr>\n",
       "      <th>3</th>\n",
       "      <td>8</td>\n",
       "      <td>0</td>\n",
       "      <td>0</td>\n",
       "      <td>0.0</td>\n",
       "      <td>0.0</td>\n",
       "      <td>0.0</td>\n",
       "      <td>0.0</td>\n",
       "      <td>-0.323694</td>\n",
       "      <td>0.361442</td>\n",
       "      <td>0.027785</td>\n",
       "      <td>0.020257</td>\n",
       "      <td>0.011245</td>\n",
       "      <td>0.029974</td>\n",
       "      <td>1.985495</td>\n",
       "      <td>1</td>\n",
       "      <td>1</td>\n",
       "      <td>1.0</td>\n",
       "    </tr>\n",
       "    <tr>\n",
       "      <th>4</th>\n",
       "      <td>10</td>\n",
       "      <td>0</td>\n",
       "      <td>0</td>\n",
       "      <td>0.0</td>\n",
       "      <td>0.0</td>\n",
       "      <td>0.0</td>\n",
       "      <td>0.0</td>\n",
       "      <td>-0.324179</td>\n",
       "      <td>0.335135</td>\n",
       "      <td>0.019731</td>\n",
       "      <td>0.012943</td>\n",
       "      <td>0.016141</td>\n",
       "      <td>0.025490</td>\n",
       "      <td>2.016380</td>\n",
       "      <td>1</td>\n",
       "      <td>1</td>\n",
       "      <td>1.0</td>\n",
       "    </tr>\n",
       "  </tbody>\n",
       "</table>\n",
       "</div>"
      ],
      "text/plain": [
       "   0   1   2    3    4    5   ...        11        12        13  14  15   16\n",
       "0   2   0   0  0.0  0.0  0.0  ...  0.015296  0.015591  2.108191   1   1  1.0\n",
       "1   4   0   0  0.0  0.0  0.0  ...  0.011544  0.022952  2.075570   1   1  1.0\n",
       "2   6   0   0  0.0  0.0  0.0  ...  0.019175  0.022089  2.129273   1   1  1.0\n",
       "3   8   0   0  0.0  0.0  0.0  ...  0.011245  0.029974  1.985495   1   1  1.0\n",
       "4  10   0   0  0.0  0.0  0.0  ...  0.016141  0.025490  2.016380   1   1  1.0\n",
       "\n",
       "[5 rows x 17 columns]"
      ]
     },
     "execution_count": 5,
     "metadata": {},
     "output_type": "execute_result"
    }
   ],
   "source": [
    "objects.head()"
   ]
  },
  {
   "cell_type": "code",
   "execution_count": 7,
   "metadata": {
    "colab": {
     "base_uri": "https://localhost:8080/",
     "height": 320
    },
    "id": "P9pwqunBV969",
    "outputId": "413168b7-b661-45e1-ad4d-d016b0daa0b9"
   },
   "outputs": [
    {
     "data": {
      "text/html": [
       "<div>\n",
       "<style scoped>\n",
       "    .dataframe tbody tr th:only-of-type {\n",
       "        vertical-align: middle;\n",
       "    }\n",
       "\n",
       "    .dataframe tbody tr th {\n",
       "        vertical-align: top;\n",
       "    }\n",
       "\n",
       "    .dataframe thead th {\n",
       "        text-align: right;\n",
       "    }\n",
       "</style>\n",
       "<table border=\"1\" class=\"dataframe\">\n",
       "  <thead>\n",
       "    <tr style=\"text-align: right;\">\n",
       "      <th></th>\n",
       "      <th>0</th>\n",
       "      <th>1</th>\n",
       "      <th>2</th>\n",
       "      <th>3</th>\n",
       "      <th>4</th>\n",
       "      <th>5</th>\n",
       "      <th>6</th>\n",
       "      <th>7</th>\n",
       "      <th>8</th>\n",
       "      <th>9</th>\n",
       "      <th>10</th>\n",
       "      <th>11</th>\n",
       "      <th>12</th>\n",
       "      <th>13</th>\n",
       "      <th>14</th>\n",
       "      <th>15</th>\n",
       "      <th>16</th>\n",
       "    </tr>\n",
       "  </thead>\n",
       "  <tbody>\n",
       "    <tr>\n",
       "      <th>count</th>\n",
       "      <td>832.000000</td>\n",
       "      <td>832.000000</td>\n",
       "      <td>832.0</td>\n",
       "      <td>832.000000</td>\n",
       "      <td>832.000000</td>\n",
       "      <td>832.000000</td>\n",
       "      <td>832.000000</td>\n",
       "      <td>832.000000</td>\n",
       "      <td>832.000000</td>\n",
       "      <td>832.000000</td>\n",
       "      <td>832.000000</td>\n",
       "      <td>832.000000</td>\n",
       "      <td>832.000000</td>\n",
       "      <td>832.000000</td>\n",
       "      <td>832.000000</td>\n",
       "      <td>832.000000</td>\n",
       "      <td>832.000000</td>\n",
       "    </tr>\n",
       "    <tr>\n",
       "      <th>mean</th>\n",
       "      <td>78.466346</td>\n",
       "      <td>1.885817</td>\n",
       "      <td>0.0</td>\n",
       "      <td>0.049021</td>\n",
       "      <td>-0.165041</td>\n",
       "      <td>0.000863</td>\n",
       "      <td>1.019252</td>\n",
       "      <td>-0.334803</td>\n",
       "      <td>0.148544</td>\n",
       "      <td>0.030465</td>\n",
       "      <td>-0.195182</td>\n",
       "      <td>-0.067513</td>\n",
       "      <td>1.412666</td>\n",
       "      <td>1.160188</td>\n",
       "      <td>-0.680288</td>\n",
       "      <td>-1.925481</td>\n",
       "      <td>-0.692608</td>\n",
       "    </tr>\n",
       "    <tr>\n",
       "      <th>std</th>\n",
       "      <td>45.019839</td>\n",
       "      <td>1.041932</td>\n",
       "      <td>0.0</td>\n",
       "      <td>0.646329</td>\n",
       "      <td>1.216623</td>\n",
       "      <td>1.387602</td>\n",
       "      <td>0.932350</td>\n",
       "      <td>0.011882</td>\n",
       "      <td>0.087652</td>\n",
       "      <td>0.745417</td>\n",
       "      <td>1.473707</td>\n",
       "      <td>1.654349</td>\n",
       "      <td>0.836402</td>\n",
       "      <td>0.383006</td>\n",
       "      <td>0.733385</td>\n",
       "      <td>1.609007</td>\n",
       "      <td>0.706884</td>\n",
       "    </tr>\n",
       "    <tr>\n",
       "      <th>min</th>\n",
       "      <td>2.000000</td>\n",
       "      <td>0.000000</td>\n",
       "      <td>0.0</td>\n",
       "      <td>-1.548129</td>\n",
       "      <td>-3.140722</td>\n",
       "      <td>-3.135342</td>\n",
       "      <td>0.000000</td>\n",
       "      <td>-0.347158</td>\n",
       "      <td>-0.134031</td>\n",
       "      <td>-1.548203</td>\n",
       "      <td>-3.140722</td>\n",
       "      <td>-3.135342</td>\n",
       "      <td>0.000000</td>\n",
       "      <td>0.697212</td>\n",
       "      <td>-1.000000</td>\n",
       "      <td>-4.000000</td>\n",
       "      <td>-1.000000</td>\n",
       "    </tr>\n",
       "    <tr>\n",
       "      <th>25%</th>\n",
       "      <td>40.000000</td>\n",
       "      <td>1.000000</td>\n",
       "      <td>0.0</td>\n",
       "      <td>-0.082647</td>\n",
       "      <td>-0.437844</td>\n",
       "      <td>-0.499631</td>\n",
       "      <td>0.000000</td>\n",
       "      <td>-0.345322</td>\n",
       "      <td>0.102653</td>\n",
       "      <td>-0.382925</td>\n",
       "      <td>-1.027629</td>\n",
       "      <td>-1.570489</td>\n",
       "      <td>0.912000</td>\n",
       "      <td>0.944382</td>\n",
       "      <td>-1.000000</td>\n",
       "      <td>-3.000000</td>\n",
       "      <td>-1.000000</td>\n",
       "    </tr>\n",
       "    <tr>\n",
       "      <th>50%</th>\n",
       "      <td>78.000000</td>\n",
       "      <td>2.000000</td>\n",
       "      <td>0.0</td>\n",
       "      <td>0.000000</td>\n",
       "      <td>0.000000</td>\n",
       "      <td>0.000000</td>\n",
       "      <td>1.351009</td>\n",
       "      <td>-0.338655</td>\n",
       "      <td>0.120865</td>\n",
       "      <td>0.009454</td>\n",
       "      <td>-0.019418</td>\n",
       "      <td>0.012720</td>\n",
       "      <td>1.570742</td>\n",
       "      <td>1.017954</td>\n",
       "      <td>-1.000000</td>\n",
       "      <td>-2.000000</td>\n",
       "      <td>-1.000000</td>\n",
       "    </tr>\n",
       "    <tr>\n",
       "      <th>75%</th>\n",
       "      <td>116.000000</td>\n",
       "      <td>3.000000</td>\n",
       "      <td>0.0</td>\n",
       "      <td>0.232432</td>\n",
       "      <td>0.001371</td>\n",
       "      <td>1.308363</td>\n",
       "      <td>1.571604</td>\n",
       "      <td>-0.324571</td>\n",
       "      <td>0.147614</td>\n",
       "      <td>0.415350</td>\n",
       "      <td>0.289967</td>\n",
       "      <td>1.570715</td>\n",
       "      <td>1.590916</td>\n",
       "      <td>1.128239</td>\n",
       "      <td>-1.000000</td>\n",
       "      <td>-1.000000</td>\n",
       "      <td>-1.000000</td>\n",
       "    </tr>\n",
       "    <tr>\n",
       "      <th>max</th>\n",
       "      <td>170.000000</td>\n",
       "      <td>3.000000</td>\n",
       "      <td>0.0</td>\n",
       "      <td>1.570796</td>\n",
       "      <td>3.136404</td>\n",
       "      <td>3.141591</td>\n",
       "      <td>3.141593</td>\n",
       "      <td>-0.297704</td>\n",
       "      <td>0.377450</td>\n",
       "      <td>1.570796</td>\n",
       "      <td>3.136404</td>\n",
       "      <td>3.141591</td>\n",
       "      <td>3.141593</td>\n",
       "      <td>2.211746</td>\n",
       "      <td>1.000000</td>\n",
       "      <td>1.000000</td>\n",
       "      <td>1.000000</td>\n",
       "    </tr>\n",
       "  </tbody>\n",
       "</table>\n",
       "</div>"
      ],
      "text/plain": [
       "               0           1      2   ...          14          15          16\n",
       "count  832.000000  832.000000  832.0  ...  832.000000  832.000000  832.000000\n",
       "mean    78.466346    1.885817    0.0  ...   -0.680288   -1.925481   -0.692608\n",
       "std     45.019839    1.041932    0.0  ...    0.733385    1.609007    0.706884\n",
       "min      2.000000    0.000000    0.0  ...   -1.000000   -4.000000   -1.000000\n",
       "25%     40.000000    1.000000    0.0  ...   -1.000000   -3.000000   -1.000000\n",
       "50%     78.000000    2.000000    0.0  ...   -1.000000   -2.000000   -1.000000\n",
       "75%    116.000000    3.000000    0.0  ...   -1.000000   -1.000000   -1.000000\n",
       "max    170.000000    3.000000    0.0  ...    1.000000    1.000000    1.000000\n",
       "\n",
       "[8 rows x 17 columns]"
      ]
     },
     "execution_count": 7,
     "metadata": {},
     "output_type": "execute_result"
    }
   ],
   "source": [
    "objects.describe()"
   ]
  },
  {
   "cell_type": "code",
   "execution_count": 9,
   "metadata": {
    "id": "yAzF7gURnc7y"
   },
   "outputs": [],
   "source": [
    "# removing first column only\n",
    "\n",
    "#objects_dropped = objects.drop([0], axis=1)\n",
    "#y = objects_dropped[1]\n",
    "#X = objects_dropped.iloc[:, 1:]"
   ]
  },
  {
   "cell_type": "code",
   "execution_count": 5,
   "metadata": {
    "id": "stKM2Jrchwf9"
   },
   "outputs": [],
   "source": [
    "# removing first and second columns \n",
    "\n",
    "#objects_dropped = objects.drop([0, 2], axis=1)\n",
    "#X = objects_dropped.iloc[:, 1:]\n",
    "#y = objects_dropped[1]"
   ]
  },
  {
   "cell_type": "code",
   "execution_count": 5,
   "metadata": {
    "id": "mGKXld-gJ-y1"
   },
   "outputs": [],
   "source": [
    "# removing first, second and 14th columns \n",
    "\n",
    "#objects_dropped = objects.drop([0, 2, 14], axis=1)\n",
    "#X = objects_dropped.iloc[:, 1:]\n",
    "#y = objects_dropped[1]"
   ]
  },
  {
   "cell_type": "code",
   "execution_count": 15,
   "metadata": {
    "id": "5nUKUtt7L-nR"
   },
   "outputs": [],
   "source": [
    "# removing first, second, 14th, 15th and 16th \n",
    "\n",
    "objects_dropped = objects.drop([0, 2, 14, 15, 16], axis=1)\n",
    "X = objects_dropped.iloc[:, 1:]\n",
    "y = objects_dropped[1]"
   ]
  },
  {
   "cell_type": "code",
   "execution_count": 16,
   "metadata": {
    "colab": {
     "base_uri": "https://localhost:8080/",
     "height": 424
    },
    "id": "Z9PbsjUqKUy5",
    "outputId": "93fca994-e7b2-406f-f465-657c9f93b9c2"
   },
   "outputs": [
    {
     "data": {
      "text/html": [
       "<div>\n",
       "<style scoped>\n",
       "    .dataframe tbody tr th:only-of-type {\n",
       "        vertical-align: middle;\n",
       "    }\n",
       "\n",
       "    .dataframe tbody tr th {\n",
       "        vertical-align: top;\n",
       "    }\n",
       "\n",
       "    .dataframe thead th {\n",
       "        text-align: right;\n",
       "    }\n",
       "</style>\n",
       "<table border=\"1\" class=\"dataframe\">\n",
       "  <thead>\n",
       "    <tr style=\"text-align: right;\">\n",
       "      <th></th>\n",
       "      <th>1</th>\n",
       "      <th>3</th>\n",
       "      <th>4</th>\n",
       "      <th>5</th>\n",
       "      <th>6</th>\n",
       "      <th>7</th>\n",
       "      <th>8</th>\n",
       "      <th>9</th>\n",
       "      <th>10</th>\n",
       "      <th>11</th>\n",
       "      <th>12</th>\n",
       "      <th>13</th>\n",
       "    </tr>\n",
       "  </thead>\n",
       "  <tbody>\n",
       "    <tr>\n",
       "      <th>0</th>\n",
       "      <td>0</td>\n",
       "      <td>0.000000</td>\n",
       "      <td>0.000000</td>\n",
       "      <td>0.000000</td>\n",
       "      <td>0.000000</td>\n",
       "      <td>-0.308395</td>\n",
       "      <td>0.052266</td>\n",
       "      <td>0.003016</td>\n",
       "      <td>-0.083974</td>\n",
       "      <td>0.015296</td>\n",
       "      <td>0.015591</td>\n",
       "      <td>2.108191</td>\n",
       "    </tr>\n",
       "    <tr>\n",
       "      <th>1</th>\n",
       "      <td>0</td>\n",
       "      <td>0.000000</td>\n",
       "      <td>0.000000</td>\n",
       "      <td>0.000000</td>\n",
       "      <td>0.000000</td>\n",
       "      <td>-0.323877</td>\n",
       "      <td>0.357520</td>\n",
       "      <td>0.019840</td>\n",
       "      <td>-0.002934</td>\n",
       "      <td>0.011544</td>\n",
       "      <td>0.022952</td>\n",
       "      <td>2.075570</td>\n",
       "    </tr>\n",
       "    <tr>\n",
       "      <th>2</th>\n",
       "      <td>0</td>\n",
       "      <td>0.000000</td>\n",
       "      <td>0.000000</td>\n",
       "      <td>0.000000</td>\n",
       "      <td>0.000000</td>\n",
       "      <td>-0.324051</td>\n",
       "      <td>0.351527</td>\n",
       "      <td>0.010966</td>\n",
       "      <td>-0.015035</td>\n",
       "      <td>0.019175</td>\n",
       "      <td>0.022089</td>\n",
       "      <td>2.129273</td>\n",
       "    </tr>\n",
       "    <tr>\n",
       "      <th>3</th>\n",
       "      <td>0</td>\n",
       "      <td>0.000000</td>\n",
       "      <td>0.000000</td>\n",
       "      <td>0.000000</td>\n",
       "      <td>0.000000</td>\n",
       "      <td>-0.323694</td>\n",
       "      <td>0.361442</td>\n",
       "      <td>0.027785</td>\n",
       "      <td>0.020257</td>\n",
       "      <td>0.011245</td>\n",
       "      <td>0.029974</td>\n",
       "      <td>1.985495</td>\n",
       "    </tr>\n",
       "    <tr>\n",
       "      <th>4</th>\n",
       "      <td>0</td>\n",
       "      <td>0.000000</td>\n",
       "      <td>0.000000</td>\n",
       "      <td>0.000000</td>\n",
       "      <td>0.000000</td>\n",
       "      <td>-0.324179</td>\n",
       "      <td>0.335135</td>\n",
       "      <td>0.019731</td>\n",
       "      <td>0.012943</td>\n",
       "      <td>0.016141</td>\n",
       "      <td>0.025490</td>\n",
       "      <td>2.016380</td>\n",
       "    </tr>\n",
       "    <tr>\n",
       "      <th>...</th>\n",
       "      <td>...</td>\n",
       "      <td>...</td>\n",
       "      <td>...</td>\n",
       "      <td>...</td>\n",
       "      <td>...</td>\n",
       "      <td>...</td>\n",
       "      <td>...</td>\n",
       "      <td>...</td>\n",
       "      <td>...</td>\n",
       "      <td>...</td>\n",
       "      <td>...</td>\n",
       "      <td>...</td>\n",
       "    </tr>\n",
       "    <tr>\n",
       "      <th>827</th>\n",
       "      <td>3</td>\n",
       "      <td>0.000000</td>\n",
       "      <td>0.000000</td>\n",
       "      <td>0.000000</td>\n",
       "      <td>0.000000</td>\n",
       "      <td>-0.345510</td>\n",
       "      <td>0.158087</td>\n",
       "      <td>-0.006328</td>\n",
       "      <td>-0.224542</td>\n",
       "      <td>1.590410</td>\n",
       "      <td>1.590409</td>\n",
       "      <td>1.213491</td>\n",
       "    </tr>\n",
       "    <tr>\n",
       "      <th>828</th>\n",
       "      <td>3</td>\n",
       "      <td>-0.006328</td>\n",
       "      <td>-0.224542</td>\n",
       "      <td>1.590410</td>\n",
       "      <td>1.590410</td>\n",
       "      <td>-0.344074</td>\n",
       "      <td>0.169975</td>\n",
       "      <td>1.244627</td>\n",
       "      <td>0.098694</td>\n",
       "      <td>1.576012</td>\n",
       "      <td>1.572468</td>\n",
       "      <td>0.936861</td>\n",
       "    </tr>\n",
       "    <tr>\n",
       "      <th>829</th>\n",
       "      <td>3</td>\n",
       "      <td>1.244627</td>\n",
       "      <td>0.098694</td>\n",
       "      <td>1.576012</td>\n",
       "      <td>1.572468</td>\n",
       "      <td>-0.331494</td>\n",
       "      <td>0.100452</td>\n",
       "      <td>-0.007455</td>\n",
       "      <td>-1.142839</td>\n",
       "      <td>-3.035068</td>\n",
       "      <td>3.034809</td>\n",
       "      <td>0.861440</td>\n",
       "    </tr>\n",
       "    <tr>\n",
       "      <th>830</th>\n",
       "      <td>3</td>\n",
       "      <td>-0.007455</td>\n",
       "      <td>-1.142839</td>\n",
       "      <td>-3.035068</td>\n",
       "      <td>3.034809</td>\n",
       "      <td>-0.316096</td>\n",
       "      <td>0.071486</td>\n",
       "      <td>0.231329</td>\n",
       "      <td>0.170189</td>\n",
       "      <td>-1.598714</td>\n",
       "      <td>1.597970</td>\n",
       "      <td>1.150800</td>\n",
       "    </tr>\n",
       "    <tr>\n",
       "      <th>831</th>\n",
       "      <td>3</td>\n",
       "      <td>0.000000</td>\n",
       "      <td>0.000000</td>\n",
       "      <td>0.000000</td>\n",
       "      <td>0.000000</td>\n",
       "      <td>-0.345930</td>\n",
       "      <td>0.153939</td>\n",
       "      <td>-0.000923</td>\n",
       "      <td>-0.012049</td>\n",
       "      <td>1.591427</td>\n",
       "      <td>1.591427</td>\n",
       "      <td>0.985569</td>\n",
       "    </tr>\n",
       "  </tbody>\n",
       "</table>\n",
       "<p>832 rows × 12 columns</p>\n",
       "</div>"
      ],
      "text/plain": [
       "     1         3         4         5   ...        10        11        12        13\n",
       "0     0  0.000000  0.000000  0.000000  ... -0.083974  0.015296  0.015591  2.108191\n",
       "1     0  0.000000  0.000000  0.000000  ... -0.002934  0.011544  0.022952  2.075570\n",
       "2     0  0.000000  0.000000  0.000000  ... -0.015035  0.019175  0.022089  2.129273\n",
       "3     0  0.000000  0.000000  0.000000  ...  0.020257  0.011245  0.029974  1.985495\n",
       "4     0  0.000000  0.000000  0.000000  ...  0.012943  0.016141  0.025490  2.016380\n",
       "..   ..       ...       ...       ...  ...       ...       ...       ...       ...\n",
       "827   3  0.000000  0.000000  0.000000  ... -0.224542  1.590410  1.590409  1.213491\n",
       "828   3 -0.006328 -0.224542  1.590410  ...  0.098694  1.576012  1.572468  0.936861\n",
       "829   3  1.244627  0.098694  1.576012  ... -1.142839 -3.035068  3.034809  0.861440\n",
       "830   3 -0.007455 -1.142839 -3.035068  ...  0.170189 -1.598714  1.597970  1.150800\n",
       "831   3  0.000000  0.000000  0.000000  ... -0.012049  1.591427  1.591427  0.985569\n",
       "\n",
       "[832 rows x 12 columns]"
      ]
     },
     "execution_count": 16,
     "metadata": {},
     "output_type": "execute_result"
    }
   ],
   "source": [
    "objects_dropped"
   ]
  },
  {
   "cell_type": "markdown",
   "metadata": {
    "id": "Qn6M8mB2u1Lc"
   },
   "source": [
    "###KNN"
   ]
  },
  {
   "cell_type": "code",
   "execution_count": 17,
   "metadata": {
    "id": "Q5vK1y0mh9ht"
   },
   "outputs": [],
   "source": [
    "classifier = KNeighborsClassifier(n_neighbors=3, p=1)"
   ]
  },
  {
   "cell_type": "code",
   "execution_count": 18,
   "metadata": {
    "id": "MMLVS4PthQY-"
   },
   "outputs": [],
   "source": [
    "cv = StratifiedKFold(n_splits=5, random_state=1, shuffle=True)\n",
    "#accuracy = cross_val_score(classifier, X, y, cv=cv, \n",
    "#                           scoring='accuracy')\n",
    "#np.mean(accuracy)"
   ]
  },
  {
   "cell_type": "code",
   "execution_count": 19,
   "metadata": {
    "colab": {
     "base_uri": "https://localhost:8080/"
    },
    "id": "_Hz6pnMkwb9n",
    "outputId": "e6ec8f6d-a7ea-48e8-e503-4507ad361ca8"
   },
   "outputs": [
    {
     "name": "stdout",
     "output_type": "stream",
     "text": [
      "{'fit_time': array([0.00727606, 0.00329566, 0.00348425, 0.00413585, 0.00321937]), 'score_time': array([0.00895953, 0.00942016, 0.00873208, 0.00913048, 0.00878763]), 'estimator': [KNeighborsClassifier(n_neighbors=3, p=1), KNeighborsClassifier(n_neighbors=3, p=1), KNeighborsClassifier(n_neighbors=3, p=1), KNeighborsClassifier(n_neighbors=3, p=1), KNeighborsClassifier(n_neighbors=3, p=1)], 'test_score': array([0.80838323, 0.83233533, 0.86746988, 0.8313253 , 0.8373494 ])}\n"
     ]
    }
   ],
   "source": [
    "results = cross_validate(classifier, X, y, cv=cv, \n",
    "                         scoring='accuracy', return_estimator=True)\n",
    "print(results)"
   ]
  },
  {
   "cell_type": "code",
   "execution_count": 20,
   "metadata": {
    "colab": {
     "base_uri": "https://localhost:8080/"
    },
    "id": "8OHia7_Ezelw",
    "outputId": "531cfd68-c4f2-4495-ef22-942742d2d580"
   },
   "outputs": [
    {
     "data": {
      "text/plain": [
       "array([0.80838323, 0.83233533, 0.86746988, 0.8313253 , 0.8373494 ])"
      ]
     },
     "execution_count": 20,
     "metadata": {},
     "output_type": "execute_result"
    }
   ],
   "source": [
    "results['test_score']"
   ]
  },
  {
   "cell_type": "code",
   "execution_count": 21,
   "metadata": {
    "colab": {
     "base_uri": "https://localhost:8080/"
    },
    "id": "KOv7YbRSKsS9",
    "outputId": "11a16257-51fd-4908-ea42-5f59d3c5694d"
   },
   "outputs": [
    {
     "data": {
      "text/plain": [
       "0.8353365384615384"
      ]
     },
     "execution_count": 21,
     "metadata": {},
     "output_type": "execute_result"
    }
   ],
   "source": [
    "y_predict = cross_val_predict(classifier, X, y, cv=cv)\n",
    "metrics.accuracy_score(y, y_predict)"
   ]
  },
  {
   "cell_type": "markdown",
   "metadata": {
    "id": "TZLEr23_HHna"
   },
   "source": [
    "###Decision Tree"
   ]
  },
  {
   "cell_type": "code",
   "execution_count": 12,
   "metadata": {
    "id": "4QDlccKPHLyV"
   },
   "outputs": [],
   "source": [
    "classifier = DecisionTreeClassifier()\n",
    "cv = StratifiedKFold(n_splits=5, random_state=1, shuffle=True)\n",
    "#accuracy = cross_val_score(classifier, X, y, cv=cv, \n",
    "#                           scoring='accuracy')\n",
    "#np.mean(accuracy)"
   ]
  },
  {
   "cell_type": "code",
   "execution_count": 13,
   "metadata": {
    "colab": {
     "base_uri": "https://localhost:8080/"
    },
    "id": "VOdnIxchHL01",
    "outputId": "3786c912-53c6-4d60-fa66-3aa187451b84"
   },
   "outputs": [
    {
     "data": {
      "text/plain": [
       "0.8954326923076923"
      ]
     },
     "execution_count": 13,
     "metadata": {},
     "output_type": "execute_result"
    }
   ],
   "source": [
    "y_predict = cross_val_predict(classifier, X, y, cv=cv)\n",
    "metrics.accuracy_score(y, y_predict)"
   ]
  },
  {
   "cell_type": "markdown",
   "metadata": {
    "id": "WcxkmpHkHzqd"
   },
   "source": [
    "##Random Forest"
   ]
  },
  {
   "cell_type": "code",
   "execution_count": 14,
   "metadata": {
    "id": "CiUgV-RDHxwY"
   },
   "outputs": [],
   "source": [
    "classifier = RandomForestClassifier()\n",
    "cv = StratifiedKFold(n_splits=5, random_state=1, shuffle=True)\n",
    "#accuracy = cross_val_score(classifier, X, y, cv=cv, \n",
    "#                           scoring='accuracy')\n",
    "#np.mean(accuracy)"
   ]
  },
  {
   "cell_type": "code",
   "execution_count": 15,
   "metadata": {
    "colab": {
     "base_uri": "https://localhost:8080/"
    },
    "id": "XLPYjqaVHyIB",
    "outputId": "bded0b66-629d-4ab3-cb14-18ac408fe7e5"
   },
   "outputs": [
    {
     "data": {
      "text/plain": [
       "0.9194711538461539"
      ]
     },
     "execution_count": 15,
     "metadata": {},
     "output_type": "execute_result"
    }
   ],
   "source": [
    "y_predict = cross_val_predict(classifier, X, y, cv=cv)\n",
    "metrics.accuracy_score(y, y_predict)"
   ]
  }
 ],
 "metadata": {
  "colab": {
   "name": "objects.ipynb",
   "provenance": []
  },
  "kernelspec": {
   "display_name": "Python 3 (ipykernel)",
   "language": "python",
   "name": "python3"
  },
  "language_info": {
   "codemirror_mode": {
    "name": "ipython",
    "version": 3
   },
   "file_extension": ".py",
   "mimetype": "text/x-python",
   "name": "python",
   "nbconvert_exporter": "python",
   "pygments_lexer": "ipython3",
   "version": "3.8.12"
  }
 },
 "nbformat": 4,
 "nbformat_minor": 1
}
